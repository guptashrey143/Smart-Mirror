{
 "cells": [
  {
   "cell_type": "code",
   "execution_count": 1,
   "metadata": {
    "execution": {
     "iopub.execute_input": "2021-07-23T03:39:14.208661Z",
     "iopub.status.busy": "2021-07-23T03:39:14.206951Z",
     "iopub.status.idle": "2021-07-23T03:39:22.639848Z",
     "shell.execute_reply": "2021-07-23T03:39:22.639327Z",
     "shell.execute_reply.started": "2021-07-23T03:13:49.782831Z"
    },
    "papermill": {
     "duration": 8.46466,
     "end_time": "2021-07-23T03:39:22.640016",
     "exception": false,
     "start_time": "2021-07-23T03:39:14.175356",
     "status": "completed"
    },
    "tags": []
   },
   "outputs": [],
   "source": [
    "import numpy as np\n",
    "import pandas as pd\n",
    "import os\n",
    "import matplotlib.pyplot as plt\n",
    "import tensorflow as tf\n",
    "import cv2 \n",
    "from tensorflow.keras.utils import to_categorical\n",
    "from tensorflow.keras.preprocessing.image import load_img, img_to_array\n",
    "from tensorflow.python.keras.preprocessing.image import ImageDataGenerator\n",
    "\n",
    "from sklearn.metrics import classification_report, log_loss, accuracy_score\n",
    "from sklearn.model_selection import train_test_split"
   ]
  },
  {
   "cell_type": "code",
   "execution_count": 2,
   "metadata": {
    "execution": {
     "iopub.execute_input": "2021-07-23T03:39:22.680401Z",
     "iopub.status.busy": "2021-07-23T03:39:22.679863Z",
     "iopub.status.idle": "2021-07-23T03:39:22.683976Z",
     "shell.execute_reply": "2021-07-23T03:39:22.683496Z",
     "shell.execute_reply.started": "2021-07-23T03:13:55.490648Z"
    },
    "papermill": {
     "duration": 0.026107,
     "end_time": "2021-07-23T03:39:22.684100",
     "exception": false,
     "start_time": "2021-07-23T03:39:22.657993",
     "status": "completed"
    },
    "tags": []
   },
   "outputs": [],
   "source": [
    "train_dir = 'Surya Namaskara'"
   ]
  },
  {
   "cell_type": "code",
   "execution_count": 3,
   "metadata": {
    "execution": {
     "iopub.execute_input": "2021-07-23T03:39:22.726405Z",
     "iopub.status.busy": "2021-07-23T03:39:22.725617Z",
     "iopub.status.idle": "2021-07-23T03:39:22.795407Z",
     "shell.execute_reply": "2021-07-23T03:39:22.794806Z",
     "shell.execute_reply.started": "2021-07-23T03:13:55.496661Z"
    },
    "papermill": {
     "duration": 0.094212,
     "end_time": "2021-07-23T03:39:22.795553",
     "exception": false,
     "start_time": "2021-07-23T03:39:22.701341",
     "status": "completed"
    },
    "tags": []
   },
   "outputs": [
    {
     "name": "stdout",
     "output_type": "stream",
     "text": [
      "['adho mukha svanasana', 'ashtanga namaskara', 'ashwa sanshalasana', 'bhujangasana', 'chaturanga dandasana', 'hasta uttasana', 'padahastasana', 'pranamasana']\n",
      "8\n"
     ]
    }
   ],
   "source": [
    "Name=[]\n",
    "for file in os.listdir(train_dir):\n",
    "    Name+=[file]\n",
    "print(Name)\n",
    "print(len(Name))"
   ]
  },
  {
   "cell_type": "code",
   "execution_count": 4,
   "metadata": {
    "execution": {
     "iopub.execute_input": "2021-07-23T03:39:22.856369Z",
     "iopub.status.busy": "2021-07-23T03:39:22.855533Z",
     "iopub.status.idle": "2021-07-23T03:39:22.859707Z",
     "shell.execute_reply": "2021-07-23T03:39:22.858880Z",
     "shell.execute_reply.started": "2021-07-23T03:13:55.524914Z"
    },
    "papermill": {
     "duration": 0.037196,
     "end_time": "2021-07-23T03:39:22.859861",
     "exception": false,
     "start_time": "2021-07-23T03:39:22.822665",
     "status": "completed"
    },
    "tags": []
   },
   "outputs": [],
   "source": [
    "N=[]\n",
    "for i in range(len(Name)):\n",
    "    N+=[i]\n",
    "    \n",
    "normal_mapping=dict(zip(Name,N)) \n",
    "reverse_mapping=dict(zip(N,Name)) \n",
    "\n",
    "def mapper(value):\n",
    "    return reverse_mapping[value]"
   ]
  },
  {
   "cell_type": "code",
   "execution_count": 5,
   "metadata": {
    "_cell_guid": "79c7e3d0-c299-4dcb-8224-4455121ee9b0",
    "_uuid": "d629ff2d2480ee46fbb7e2d37f6b5fab8052498a",
    "execution": {
     "iopub.execute_input": "2021-07-23T03:39:22.920333Z",
     "iopub.status.busy": "2021-07-23T03:39:22.919680Z",
     "iopub.status.idle": "2021-07-23T03:40:50.038734Z",
     "shell.execute_reply": "2021-07-23T03:40:50.038015Z",
     "shell.execute_reply.started": "2021-07-23T03:13:55.531353Z"
    },
    "papermill": {
     "duration": 87.152012,
     "end_time": "2021-07-23T03:40:50.038873",
     "exception": false,
     "start_time": "2021-07-23T03:39:22.886861",
     "status": "completed"
    },
    "tags": []
   },
   "outputs": [
    {
     "name": "stderr",
     "output_type": "stream",
     "text": [
      "C:\\ProgramData\\Anaconda3\\lib\\site-packages\\PIL\\Image.py:960: UserWarning: Palette images with Transparency expressed in bytes should be converted to RGBA images\n",
      "  warnings.warn(\n"
     ]
    }
   ],
   "source": [
    "dataset=[]\n",
    "testset=[]\n",
    "count=0\n",
    "for file in os.listdir(train_dir):\n",
    "    t=0\n",
    "    path=os.path.join(train_dir,file)\n",
    "    for im in os.listdir(path):\n",
    "        image=load_img(os.path.join(path,im), grayscale=False, color_mode='rgb', target_size=(160,160))\n",
    "        image=img_to_array(image)\n",
    "        image=image/255.0\n",
    "        if t<60:\n",
    "            dataset+=[[image,count]]\n",
    "        else:\n",
    "            testset+=[[image,count]]\n",
    "        t+=1\n",
    "    count=count+1"
   ]
  },
  {
   "cell_type": "code",
   "execution_count": 6,
   "metadata": {
    "execution": {
     "iopub.execute_input": "2021-07-23T03:40:50.100339Z",
     "iopub.status.busy": "2021-07-23T03:40:50.099456Z",
     "iopub.status.idle": "2021-07-23T03:40:50.102371Z",
     "shell.execute_reply": "2021-07-23T03:40:50.101751Z",
     "shell.execute_reply.started": "2021-07-23T03:15:11.363111Z"
    },
    "papermill": {
     "duration": 0.036284,
     "end_time": "2021-07-23T03:40:50.102510",
     "exception": false,
     "start_time": "2021-07-23T03:40:50.066226",
     "status": "completed"
    },
    "tags": []
   },
   "outputs": [],
   "source": [
    "data,labels0=zip(*dataset)\n",
    "test,testlabels0=zip(*testset)"
   ]
  },
  {
   "cell_type": "code",
   "execution_count": 7,
   "metadata": {
    "execution": {
     "iopub.execute_input": "2021-07-23T03:40:50.161722Z",
     "iopub.status.busy": "2021-07-23T03:40:50.160781Z",
     "iopub.status.idle": "2021-07-23T03:40:50.167829Z",
     "shell.execute_reply": "2021-07-23T03:40:50.167056Z",
     "shell.execute_reply.started": "2021-07-23T03:15:11.369072Z"
    },
    "papermill": {
     "duration": 0.038168,
     "end_time": "2021-07-23T03:40:50.167997",
     "exception": false,
     "start_time": "2021-07-23T03:40:50.129829",
     "status": "completed"
    },
    "tags": []
   },
   "outputs": [],
   "source": [
    "labels1=to_categorical(labels0)\n",
    "labels=np.array(labels1)"
   ]
  },
  {
   "cell_type": "code",
   "execution_count": 8,
   "metadata": {
    "execution": {
     "iopub.execute_input": "2021-07-23T03:40:50.227376Z",
     "iopub.status.busy": "2021-07-23T03:40:50.226318Z",
     "iopub.status.idle": "2021-07-23T03:40:50.258803Z",
     "shell.execute_reply": "2021-07-23T03:40:50.258208Z",
     "shell.execute_reply.started": "2021-07-23T03:15:11.387136Z"
    },
    "papermill": {
     "duration": 0.063794,
     "end_time": "2021-07-23T03:40:50.258961",
     "exception": false,
     "start_time": "2021-07-23T03:40:50.195167",
     "status": "completed"
    },
    "tags": []
   },
   "outputs": [],
   "source": [
    "data=np.array(data)\n",
    "test=np.array(test)"
   ]
  },
  {
   "cell_type": "code",
   "execution_count": 9,
   "metadata": {
    "execution": {
     "iopub.execute_input": "2021-07-23T03:40:50.316495Z",
     "iopub.status.busy": "2021-07-23T03:40:50.315618Z",
     "iopub.status.idle": "2021-07-23T03:40:50.343860Z",
     "shell.execute_reply": "2021-07-23T03:40:50.343157Z",
     "shell.execute_reply.started": "2021-07-23T03:15:11.433641Z"
    },
    "papermill": {
     "duration": 0.05854,
     "end_time": "2021-07-23T03:40:50.344017",
     "exception": false,
     "start_time": "2021-07-23T03:40:50.285477",
     "status": "completed"
    },
    "tags": []
   },
   "outputs": [],
   "source": [
    "trainx,testx,trainy,testy=train_test_split(data,labels,test_size=0.2,random_state=44)"
   ]
  },
  {
   "cell_type": "code",
   "execution_count": 10,
   "metadata": {
    "execution": {
     "iopub.execute_input": "2021-07-23T03:40:50.402260Z",
     "iopub.status.busy": "2021-07-23T03:40:50.401573Z",
     "iopub.status.idle": "2021-07-23T03:40:50.405357Z",
     "shell.execute_reply": "2021-07-23T03:40:50.405729Z",
     "shell.execute_reply.started": "2021-07-23T03:15:11.475216Z"
    },
    "papermill": {
     "duration": 0.035576,
     "end_time": "2021-07-23T03:40:50.405881",
     "exception": false,
     "start_time": "2021-07-23T03:40:50.370305",
     "status": "completed"
    },
    "tags": []
   },
   "outputs": [
    {
     "name": "stdout",
     "output_type": "stream",
     "text": [
      "(302, 160, 160, 3)\n",
      "(76, 160, 160, 3)\n",
      "(302, 8)\n",
      "(76, 8)\n"
     ]
    }
   ],
   "source": [
    "print(trainx.shape)\n",
    "print(testx.shape)\n",
    "print(trainy.shape)\n",
    "print(testy.shape)"
   ]
  },
  {
   "cell_type": "code",
   "execution_count": 11,
   "metadata": {
    "execution": {
     "iopub.execute_input": "2021-07-23T03:40:50.446429Z",
     "iopub.status.busy": "2021-07-23T03:40:50.445832Z",
     "iopub.status.idle": "2021-07-23T03:40:50.449332Z",
     "shell.execute_reply": "2021-07-23T03:40:50.448791Z",
     "shell.execute_reply.started": "2021-07-23T03:15:11.481326Z"
    },
    "papermill": {
     "duration": 0.025679,
     "end_time": "2021-07-23T03:40:50.449453",
     "exception": false,
     "start_time": "2021-07-23T03:40:50.423774",
     "status": "completed"
    },
    "tags": []
   },
   "outputs": [],
   "source": [
    "datagen = ImageDataGenerator(horizontal_flip=True,vertical_flip=True,zoom_range=0.2,\n",
    "                       fill_mode=\"nearest\")"
   ]
  },
  {
   "cell_type": "code",
   "execution_count": 12,
   "metadata": {
    "execution": {
     "iopub.execute_input": "2021-07-23T03:40:50.494163Z",
     "iopub.status.busy": "2021-07-23T03:40:50.493576Z",
     "iopub.status.idle": "2021-07-23T03:40:57.074196Z",
     "shell.execute_reply": "2021-07-23T03:40:57.073662Z",
     "shell.execute_reply.started": "2021-07-23T03:15:11.490784Z"
    },
    "papermill": {
     "duration": 6.606851,
     "end_time": "2021-07-23T03:40:57.074323",
     "exception": false,
     "start_time": "2021-07-23T03:40:50.467472",
     "status": "completed"
    },
    "tags": []
   },
   "outputs": [],
   "source": [
    "pretrained_model3 = tf.keras.applications.DenseNet201(input_shape=(160,160,3),include_top=False,weights='imagenet',pooling='avg')\n",
    "pretrained_model3.trainable = False"
   ]
  },
  {
   "cell_type": "code",
   "execution_count": 13,
   "metadata": {
    "execution": {
     "iopub.execute_input": "2021-07-23T03:40:57.126134Z",
     "iopub.status.busy": "2021-07-23T03:40:57.123440Z",
     "iopub.status.idle": "2021-07-23T03:40:57.180110Z",
     "shell.execute_reply": "2021-07-23T03:40:57.179522Z",
     "shell.execute_reply.started": "2021-07-23T03:15:16.125599Z"
    },
    "papermill": {
     "duration": 0.084005,
     "end_time": "2021-07-23T03:40:57.180261",
     "exception": false,
     "start_time": "2021-07-23T03:40:57.096256",
     "status": "completed"
    },
    "tags": []
   },
   "outputs": [],
   "source": [
    "inputs3 = pretrained_model3.input\n",
    "x3 = tf.keras.layers.Dense(128, activation='relu')(pretrained_model3.output)\n",
    "outputs3 = tf.keras.layers.Dense(8, activation='softmax')(x3)\n",
    "model = tf.keras.Model(inputs=inputs3, outputs=outputs3)"
   ]
  },
  {
   "cell_type": "code",
   "execution_count": 14,
   "metadata": {
    "execution": {
     "iopub.execute_input": "2021-07-23T03:40:57.273641Z",
     "iopub.status.busy": "2021-07-23T03:40:57.272942Z",
     "iopub.status.idle": "2021-07-23T03:40:57.275661Z",
     "shell.execute_reply": "2021-07-23T03:40:57.276245Z",
     "shell.execute_reply.started": "2021-07-23T03:15:16.186288Z"
    },
    "papermill": {
     "duration": 0.062956,
     "end_time": "2021-07-23T03:40:57.276484",
     "exception": false,
     "start_time": "2021-07-23T03:40:57.213528",
     "status": "completed"
    },
    "tags": []
   },
   "outputs": [],
   "source": [
    "model.compile(optimizer='adam',loss='categorical_crossentropy',metrics=['accuracy'])"
   ]
  },
  {
   "cell_type": "code",
   "execution_count": 15,
   "metadata": {
    "execution": {
     "iopub.execute_input": "2021-07-23T03:40:57.345371Z",
     "iopub.status.busy": "2021-07-23T03:40:57.344646Z",
     "iopub.status.idle": "2021-07-23T03:54:00.275128Z",
     "shell.execute_reply": "2021-07-23T03:54:00.274569Z",
     "shell.execute_reply.started": "2021-07-23T03:15:16.210273Z"
    },
    "papermill": {
     "duration": 782.965626,
     "end_time": "2021-07-23T03:54:00.275243",
     "exception": false,
     "start_time": "2021-07-23T03:40:57.309617",
     "status": "completed"
    },
    "tags": []
   },
   "outputs": [
    {
     "name": "stdout",
     "output_type": "stream",
     "text": [
      "Epoch 1/30\n",
      "10/10 [==============================] - 36s 3s/step - loss: 2.0331 - accuracy: 0.2264 - val_loss: 1.4262 - val_accuracy: 0.5000\n",
      "Epoch 2/30\n",
      "10/10 [==============================] - 22s 2s/step - loss: 1.1957 - accuracy: 0.6114 - val_loss: 0.9740 - val_accuracy: 0.6053\n",
      "Epoch 3/30\n",
      "10/10 [==============================] - 22s 2s/step - loss: 0.7646 - accuracy: 0.7608 - val_loss: 1.1368 - val_accuracy: 0.5921\n",
      "Epoch 4/30\n",
      "10/10 [==============================] - 22s 2s/step - loss: 0.4978 - accuracy: 0.8695 - val_loss: 0.8356 - val_accuracy: 0.6184\n",
      "Epoch 5/30\n",
      "10/10 [==============================] - 23s 2s/step - loss: 0.4384 - accuracy: 0.8821 - val_loss: 0.7686 - val_accuracy: 0.7105\n",
      "Epoch 6/30\n",
      "10/10 [==============================] - 23s 2s/step - loss: 0.3228 - accuracy: 0.9019 - val_loss: 0.7040 - val_accuracy: 0.7105\n",
      "Epoch 7/30\n",
      "10/10 [==============================] - 23s 2s/step - loss: 0.2153 - accuracy: 0.9568 - val_loss: 0.6851 - val_accuracy: 0.7763\n",
      "Epoch 8/30\n",
      "10/10 [==============================] - 23s 2s/step - loss: 0.1697 - accuracy: 0.9651 - val_loss: 0.8194 - val_accuracy: 0.6842\n",
      "Epoch 9/30\n",
      "10/10 [==============================] - 22s 2s/step - loss: 0.1775 - accuracy: 0.9766 - val_loss: 0.6283 - val_accuracy: 0.7632\n",
      "Epoch 10/30\n",
      "10/10 [==============================] - 22s 2s/step - loss: 0.1564 - accuracy: 0.9763 - val_loss: 0.6557 - val_accuracy: 0.7500\n",
      "Epoch 11/30\n",
      "10/10 [==============================] - 22s 2s/step - loss: 0.1111 - accuracy: 0.9809 - val_loss: 0.5519 - val_accuracy: 0.7895\n",
      "Epoch 12/30\n",
      "10/10 [==============================] - 22s 2s/step - loss: 0.1392 - accuracy: 0.9637 - val_loss: 0.6811 - val_accuracy: 0.7895\n",
      "Epoch 13/30\n",
      "10/10 [==============================] - 23s 2s/step - loss: 0.0799 - accuracy: 0.9783 - val_loss: 0.5931 - val_accuracy: 0.7368\n",
      "Epoch 14/30\n",
      "10/10 [==============================] - 23s 2s/step - loss: 0.0818 - accuracy: 0.9881 - val_loss: 0.6018 - val_accuracy: 0.8026\n",
      "Epoch 15/30\n",
      "10/10 [==============================] - 23s 2s/step - loss: 0.0883 - accuracy: 0.9925 - val_loss: 0.6351 - val_accuracy: 0.8026\n",
      "Epoch 16/30\n",
      "10/10 [==============================] - 23s 2s/step - loss: 0.0651 - accuracy: 0.9885 - val_loss: 0.5893 - val_accuracy: 0.8158\n",
      "Epoch 17/30\n",
      "10/10 [==============================] - 22s 2s/step - loss: 0.0936 - accuracy: 0.9877 - val_loss: 0.6045 - val_accuracy: 0.7895\n",
      "Epoch 18/30\n",
      "10/10 [==============================] - 22s 2s/step - loss: 0.0766 - accuracy: 0.9876 - val_loss: 0.5621 - val_accuracy: 0.7895\n",
      "Epoch 19/30\n",
      "10/10 [==============================] - 22s 2s/step - loss: 0.0459 - accuracy: 0.9973 - val_loss: 0.5574 - val_accuracy: 0.8158\n",
      "Epoch 20/30\n",
      "10/10 [==============================] - 22s 2s/step - loss: 0.0626 - accuracy: 0.9913 - val_loss: 0.6252 - val_accuracy: 0.7895\n",
      "Epoch 21/30\n",
      "10/10 [==============================] - 22s 2s/step - loss: 0.0429 - accuracy: 1.0000 - val_loss: 0.5471 - val_accuracy: 0.8026\n",
      "Epoch 22/30\n",
      "10/10 [==============================] - 23s 2s/step - loss: 0.0449 - accuracy: 0.9939 - val_loss: 0.5383 - val_accuracy: 0.8026\n",
      "Epoch 23/30\n",
      "10/10 [==============================] - 23s 2s/step - loss: 0.0431 - accuracy: 0.9985 - val_loss: 0.6064 - val_accuracy: 0.8026\n",
      "Epoch 24/30\n",
      "10/10 [==============================] - 24s 2s/step - loss: 0.0671 - accuracy: 0.9851 - val_loss: 0.5470 - val_accuracy: 0.8158\n",
      "Epoch 25/30\n",
      "10/10 [==============================] - 23s 2s/step - loss: 0.0342 - accuracy: 0.9978 - val_loss: 0.5637 - val_accuracy: 0.8289\n",
      "Epoch 26/30\n",
      "10/10 [==============================] - 22s 2s/step - loss: 0.0290 - accuracy: 0.9983 - val_loss: 0.5770 - val_accuracy: 0.8158\n",
      "Epoch 27/30\n",
      "10/10 [==============================] - 22s 2s/step - loss: 0.0531 - accuracy: 0.9881 - val_loss: 0.6558 - val_accuracy: 0.7895\n",
      "Epoch 28/30\n",
      "10/10 [==============================] - 22s 2s/step - loss: 0.0296 - accuracy: 0.9956 - val_loss: 0.5719 - val_accuracy: 0.8026\n",
      "Epoch 29/30\n",
      "10/10 [==============================] - 23s 2s/step - loss: 0.0355 - accuracy: 0.9908 - val_loss: 0.6066 - val_accuracy: 0.8158\n",
      "Epoch 30/30\n",
      "10/10 [==============================] - 23s 2s/step - loss: 0.0202 - accuracy: 1.0000 - val_loss: 0.6278 - val_accuracy: 0.7895\n"
     ]
    }
   ],
   "source": [
    "his=model.fit(datagen.flow(trainx,trainy,batch_size=32),validation_data=(testx,testy),epochs=30)"
   ]
  },
  {
   "cell_type": "code",
   "execution_count": 16,
   "metadata": {
    "execution": {
     "iopub.execute_input": "2021-07-23T03:54:02.541100Z",
     "iopub.status.busy": "2021-07-23T03:54:02.538409Z",
     "iopub.status.idle": "2021-07-23T03:54:10.820061Z",
     "shell.execute_reply": "2021-07-23T03:54:10.820479Z",
     "shell.execute_reply.started": "2021-07-23T03:25:34.652635Z"
    },
    "papermill": {
     "duration": 9.420288,
     "end_time": "2021-07-23T03:54:10.820635",
     "exception": false,
     "start_time": "2021-07-23T03:54:01.400347",
     "status": "completed"
    },
    "tags": []
   },
   "outputs": [
    {
     "name": "stdout",
     "output_type": "stream",
     "text": [
      "              precision    recall  f1-score   support\n",
      "\n",
      "           0       0.92      1.00      0.96        12\n",
      "           1       0.62      1.00      0.77         5\n",
      "           2       0.43      0.60      0.50         5\n",
      "           3       0.70      0.58      0.64        12\n",
      "           4       0.85      0.65      0.73        17\n",
      "           5       1.00      0.50      0.67         6\n",
      "           6       0.80      1.00      0.89         8\n",
      "           7       0.92      1.00      0.96        11\n",
      "\n",
      "    accuracy                           0.79        76\n",
      "   macro avg       0.78      0.79      0.76        76\n",
      "weighted avg       0.81      0.79      0.78        76\n",
      "\n"
     ]
    }
   ],
   "source": [
    "y_pred=model.predict(testx)\n",
    "pred=np.argmax(y_pred,axis=1)\n",
    "ground = np.argmax(testy,axis=1)\n",
    "print(classification_report(ground,pred))"
   ]
  },
  {
   "cell_type": "code",
   "execution_count": 17,
   "metadata": {
    "execution": {
     "iopub.execute_input": "2021-07-23T03:54:13.166193Z",
     "iopub.status.busy": "2021-07-23T03:54:13.153784Z",
     "iopub.status.idle": "2021-07-23T03:54:13.326906Z",
     "shell.execute_reply": "2021-07-23T03:54:13.326374Z",
     "shell.execute_reply.started": "2021-07-23T03:25:41.071875Z"
    },
    "papermill": {
     "duration": 1.382913,
     "end_time": "2021-07-23T03:54:13.327037",
     "exception": false,
     "start_time": "2021-07-23T03:54:11.944124",
     "status": "completed"
    },
    "tags": []
   },
   "outputs": [
    {
     "data": {
      "image/png": "[encoded data removed]",
      "text/plain": [
       "<Figure size 432x288 with 1 Axes>"
      ]
     },
     "metadata": {
      "needs_background": "light"
     },
     "output_type": "display_data"
    },
    {
     "data": {
      "text/plain": [
       "<Figure size 432x288 with 0 Axes>"
      ]
     },
     "metadata": {},
     "output_type": "display_data"
    }
   ],
   "source": [
    "get_acc = his.history['accuracy']\n",
    "value_acc = his.history['val_accuracy']\n",
    "get_loss = his.history['loss']\n",
    "validation_loss = his.history['val_loss']\n",
    "\n",
    "epochs = range(len(get_acc))\n",
    "plt.plot(epochs, get_acc, 'r', label='Accuracy of Training data')\n",
    "plt.plot(epochs, value_acc, 'b', label='Accuracy of Validation data')\n",
    "plt.title('Training vs validation accuracy')\n",
    "plt.legend(loc=0)\n",
    "plt.figure()\n",
    "plt.show()"
   ]
  },
  {
   "cell_type": "code",
   "execution_count": 18,
   "metadata": {
    "execution": {
     "iopub.execute_input": "2021-07-23T03:54:16.202234Z",
     "iopub.status.busy": "2021-07-23T03:54:16.201542Z",
     "iopub.status.idle": "2021-07-23T03:54:16.327061Z",
     "shell.execute_reply": "2021-07-23T03:54:16.327473Z",
     "shell.execute_reply.started": "2021-07-23T03:25:41.243128Z"
    },
    "papermill": {
     "duration": 1.863981,
     "end_time": "2021-07-23T03:54:16.327627",
     "exception": false,
     "start_time": "2021-07-23T03:54:14.463646",
     "status": "completed"
    },
    "tags": []
   },
   "outputs": [
    {
     "data": {
      "image/png": "[encoded data removed]",
      "text/plain": [
       "<Figure size 432x288 with 1 Axes>"
      ]
     },
     "metadata": {
      "needs_background": "light"
     },
     "output_type": "display_data"
    },
    {
     "data": {
      "text/plain": [
       "<Figure size 432x288 with 0 Axes>"
      ]
     },
     "metadata": {},
     "output_type": "display_data"
    }
   ],
   "source": [
    "epochs = range(len(get_loss))\n",
    "plt.plot(epochs, get_loss, 'r', label='Loss of Training data')\n",
    "plt.plot(epochs, validation_loss, 'b', label='Loss of Validation data')\n",
    "plt.title('Training vs validation loss')\n",
    "plt.legend(loc=0)\n",
    "plt.figure()\n",
    "plt.show()"
   ]
  },
  {
   "cell_type": "code",
   "execution_count": 20,
   "metadata": {
    "execution": {
     "iopub.execute_input": "2021-07-23T03:54:19.751909Z",
     "iopub.status.busy": "2021-07-23T03:54:19.751206Z",
     "iopub.status.idle": "2021-07-23T03:54:19.785833Z",
     "shell.execute_reply": "2021-07-23T03:54:19.785187Z",
     "shell.execute_reply.started": "2021-07-23T03:25:41.396443Z"
    },
    "papermill": {
     "duration": 1.775985,
     "end_time": "2021-07-23T03:54:19.786003",
     "exception": false,
     "start_time": "2021-07-23T03:54:18.010018",
     "status": "completed"
    },
    "tags": []
   },
   "outputs": [
    {
     "data": {
      "image/png": "[encoded data removed]",
      "text/plain": [
       "<PIL.Image.Image image mode=RGB size=200x200 at 0x23816F44BE0>"
      ]
     },
     "execution_count": 20,
     "metadata": {},
     "output_type": "execute_result"
    }
   ],
   "source": [
    "path0=\"28-0.png\"\n",
    "load_img(path0,target_size=(200,200))"
   ]
  },
  {
   "cell_type": "code",
   "execution_count": 21,
   "metadata": {
    "execution": {
     "iopub.execute_input": "2021-07-23T03:54:23.318624Z",
     "iopub.status.busy": "2021-07-23T03:54:23.317909Z",
     "iopub.status.idle": "2021-07-23T03:54:23.334940Z",
     "shell.execute_reply": "2021-07-23T03:54:23.334484Z",
     "shell.execute_reply.started": "2021-07-23T03:25:41.435892Z"
    },
    "papermill": {
     "duration": 1.744703,
     "end_time": "2021-07-23T03:54:23.335064",
     "exception": false,
     "start_time": "2021-07-23T03:54:21.590361",
     "status": "completed"
    },
    "tags": []
   },
   "outputs": [],
   "source": [
    "image=load_img(path0,target_size=(160,160))\n",
    "\n",
    "image=img_to_array(image) \n",
    "image=image/255.0\n",
    "prediction_image=np.array(image)\n",
    "prediction_image= np.expand_dims(image, axis=0)"
   ]
  },
  {
   "cell_type": "code",
   "execution_count": 22,
   "metadata": {
    "execution": {
     "iopub.execute_input": "2021-07-23T03:54:25.561446Z",
     "iopub.status.busy": "2021-07-23T03:54:25.560951Z",
     "iopub.status.idle": "2021-07-23T03:54:25.624042Z",
     "shell.execute_reply": "2021-07-23T03:54:25.624555Z",
     "shell.execute_reply.started": "2021-07-23T03:25:41.451934Z"
    },
    "papermill": {
     "duration": 1.179401,
     "end_time": "2021-07-23T03:54:25.624727",
     "exception": false,
     "start_time": "2021-07-23T03:54:24.445326",
     "status": "completed"
    },
    "tags": []
   },
   "outputs": [
    {
     "name": "stdout",
     "output_type": "stream",
     "text": [
      "Prediction is ashtanga namaskara.\n"
     ]
    }
   ],
   "source": [
    "prediction=model.predict(prediction_image)\n",
    "value=np.argmax(prediction)\n",
    "move_name=mapper(value)\n",
    "print(\"Prediction is {}.\".format(move_name))"
   ]
  },
  {
   "cell_type": "code",
   "execution_count": 23,
   "metadata": {},
   "outputs": [],
   "source": [
    "VideoCapture = cv2.VideoCapture(0)\n",
    "\n",
    "while True:\n",
    "    _,img = VideoCapture.read()\n",
    "    image=cv2.resize(img,(160,160), interpolation=cv2.INTER_NEAREST)\n",
    "    image=img_to_array(image) \n",
    "    image=image/255.0\n",
    "    prediction_image=np.array(image)\n",
    "    prediction_image= np.expand_dims(image, axis=0)\n",
    "    prediction=model.predict(prediction_image)\n",
    "    value=np.argmax(prediction)\n",
    "    move_name=mapper(value)\n",
    "    color = (255, 0, 0)\n",
    "    cv2.putText(img, move_name, (50,50),cv2.FONT_HERSHEY_SIMPLEX, 2, color, 2, cv2.LINE_AA)\n",
    "    cv2.imshow(\"prediction\",img)\n",
    "    \n",
    "    if cv2.waitKey(1) & 0xFF == ord('e'):\n",
    "        break\n",
    "\n",
    "VideoCapture.release()\n",
    "cv2.destroyAllWindows()"
   ]
  },
  {
   "cell_type": "code",
   "execution_count": 29,
   "metadata": {},
   "outputs": [],
   "source": [
    "VideoCapture = cv2.VideoCapture(0)\n",
    "i = 0\n",
    "while True:\n",
    "    _,img = VideoCapture.read()\n",
    "    image=cv2.resize(img,(x,y), interpolation=cv2.INTER_NEAREST)\n",
    "    if i <= 750:\n",
    "        move_name=\"adho mukha\" + str(i)\n",
    "        color = (0, 255, 0)\n",
    "        cv2.putText(img, move_name, (50,50),cv2.FONT_HERSHEY_SIMPLEX, 2, color, 2, cv2.LINE_AA)\n",
    "\n",
    "    elif i < 1250:\n",
    "        move_name=\"adho mukha on record\"  + str(i)\n",
    "        color = (255, 0, 0)\n",
    "        cv2.imwrite(\"Data/Adho Mukha Svanasana.\" + str(i) + \".png\", img)\n",
    "        cv2.putText(img, move_name, (50,50),cv2.FONT_HERSHEY_SIMPLEX, 2, color, 2, cv2.LINE_AA)\n",
    "    \n",
    "    else:\n",
    "        VideoCapture.release()\n",
    "        cv2.destroyAllWindows()\n",
    "    \n",
    "    i += 1\n",
    "    \n",
    "    cv2.imshow(\"camera\",img)\n",
    "    \n",
    "    if cv2.waitKey(1) & 0xFF == ord('e'):\n",
    "        break\n",
    "\n",
    "VideoCapture.release()\n",
    "cv2.destroyAllWindows()"
   ]
  },
  {
   "cell_type": "code",
   "execution_count": 25,
   "metadata": {},
   "outputs": [],
   "source": [
    "VideoCapture.release()\n",
    "cv2.destroyAllWindows()"
   ]
  }
 ],
 "metadata": {
  "kernelspec": {
   "display_name": "Python 3",
   "language": "python",
   "name": "python3"
  },
  "language_info": {
   "codemirror_mode": {
    "name": "ipython",
    "version": 3
   },
   "file_extension": ".py",
   "mimetype": "text/x-python",
   "name": "python",
   "nbconvert_exporter": "python",
   "pygments_lexer": "ipython3",
   "version": "3.8.3"
  },
  "papermill": {
   "default_parameters": {},
   "duration": 936.699872,
   "end_time": "2021-07-23T03:54:42.651439",
   "environment_variables": {},
   "exception": null,
   "input_path": "__notebook__.ipynb",
   "output_path": "__notebook__.ipynb",
   "parameters": {},
   "start_time": "2021-07-23T03:39:05.951567",
   "version": "2.3.3"
  }
 },
 "nbformat": 4,
 "nbformat_minor": 5
}
